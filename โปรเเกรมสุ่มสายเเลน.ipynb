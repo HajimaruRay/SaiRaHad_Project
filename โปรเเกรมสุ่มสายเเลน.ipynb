{
 "cells": [
  {
   "cell_type": "code",
   "execution_count": null,
   "id": "e9218020-326b-4a92-a1fc-77c558f6ff68",
   "metadata": {},
   "outputs": [],
   "source": [
    "import pandas as pd\n",
    "\n",
    "count = {}\n",
    "\n",
    "def dataClear(data, TextClear):\n",
    "    dataClear = data[data['ชั้นปี'] == TextClear]\n",
    "    dataClear.loc[:, 'Facebook'] = dataClear['Facebook'].fillna('-')\n",
    "    dataClear = dataClear.dropna(axis=1)\n",
    "    return dataClear\n",
    "\n",
    "def RandomYear2(sampled_year, n_Year1):\n",
    "    global count\n",
    "    \n",
    "    Year = pd.DataFrame(columns=sampled_year.columns)\n",
    "    countone = 0\n",
    "    maxone = 12\n",
    "    while not sampled_year.empty:\n",
    "        sampled_year_one = sampled_year.sample(n=1)\n",
    "        name = sampled_year_one['ชื่อ'].values[0]\n",
    "        if countone != maxone:\n",
    "            Year = pd.concat([Year, sampled_year_one], ignore_index=True)\n",
    "            sampled_year = sampled_year[sampled_year['ชื่อ'] != name]\n",
    "            #print(name)\n",
    "            countone+=1\n",
    "            continue\n",
    "        \n",
    "        if name not in count:\n",
    "            count[name] = 1\n",
    "        else:\n",
    "            count[name] += 1\n",
    "        \n",
    "        if count[name] <= 2:\n",
    "            Year = pd.concat([Year, sampled_year_one], ignore_index=True)\n",
    "        else:\n",
    "            sampled_year = sampled_year[sampled_year['ชื่อ'] != name]\n",
    "\n",
    "    return Year\n",
    "\n",
    "data = pd.read_csv(\"dataสายรหัส.csv\")\n",
    "Year1 = dataClear(data, \"ชั้นปีที่ 1\")\n",
    "Year2 = dataClear(data, \"ชั้นปีที่ 2\")\n",
    "datalen = len(data)\n",
    "n_Year1 = len(Year1)\n",
    "n_Year2 = len(Year2)\n",
    "Year2 = RandomYear2(Year2, n_Year1)\n",
    "sampled_year1 = Year1.sample(n=n_Year1, random_state= datalen)\n",
    "sampled_year2 = Year2\n",
    "\n",
    "#link\n",
    "paired_df = pd.concat([sampled_year1.reset_index(drop=True), sampled_year2.reset_index(drop=True)], axis=1)\n",
    "paired_df.to_excel('Random.xlsx', index=False)\n",
    "paired_df"
   ]
  }
 ],
 "metadata": {
  "kernelspec": {
   "display_name": "Python 3 (ipykernel)",
   "language": "python",
   "name": "python3"
  },
  "language_info": {
   "codemirror_mode": {
    "name": "ipython",
    "version": 3
   },
   "file_extension": ".py",
   "mimetype": "text/x-python",
   "name": "python",
   "nbconvert_exporter": "python",
   "pygments_lexer": "ipython3",
   "version": "3.10.11"
  }
 },
 "nbformat": 4,
 "nbformat_minor": 5
}
